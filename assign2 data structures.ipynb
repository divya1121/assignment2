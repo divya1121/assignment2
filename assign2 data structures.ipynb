{
 "cells": [
  {
   "cell_type": "code",
   "execution_count": 1,
   "id": "bf0a75e2-a4f5-4020-aa74-a5e672784d4b",
   "metadata": {},
   "outputs": [],
   "source": [
    "# Q1. How do you comment code in Python? What are the different types of comments?"
   ]
  },
  {
   "cell_type": "code",
   "execution_count": 3,
   "id": "1b7a060a-629d-4d37-b249-5a2f668ccf80",
   "metadata": {},
   "outputs": [],
   "source": [
    "In python comment code by using '#' hash mark.\n",
    "in it nothing but the lines in a code that we dont want to print\n",
    "or gives some extra information about the code for better understanding.\n",
    "It improves the code readability."
   ]
  },
  {
   "cell_type": "code",
   "execution_count": null,
   "id": "6f67bc25-d716-4f18-890b-f2f695a46ba7",
   "metadata": {},
   "outputs": [],
   "source": [
    "types-\n",
    "there are 3 types of comments in python\n",
    "1.single line comment\n",
    "2.multi line comment\n",
    "3.string literals"
   ]
  },
  {
   "cell_type": "code",
   "execution_count": 4,
   "id": "a12efe79-0941-4ef5-8acc-006e2d727465",
   "metadata": {},
   "outputs": [
    {
     "name": "stdout",
     "output_type": "stream",
     "text": [
      "1\n",
      "2\n",
      "4\n",
      "5\n"
     ]
    }
   ],
   "source": [
    "# 1.single line comment\n",
    "\n",
    "#\"this is my sample code\"\n",
    "l1=[1,2,4,5]\n",
    "for i in l1:\n",
    "    print(i)\n",
    "    "
   ]
  },
  {
   "cell_type": "code",
   "execution_count": 5,
   "id": "1fabf891-f241-468f-9454-993d7491c8cb",
   "metadata": {},
   "outputs": [
    {
     "name": "stdout",
     "output_type": "stream",
     "text": [
      "hello world!\n"
     ]
    }
   ],
   "source": [
    "#2.multi line comment\n",
    "# it uses multiple #\n",
    "\n",
    "\n",
    "# this is my 1st code\n",
    "#it is only printing the statement.\n",
    "print(\"hello world!\")"
   ]
  },
  {
   "cell_type": "code",
   "execution_count": null,
   "id": "84260cbb-5425-46de-8136-6f7c80feeea4",
   "metadata": {},
   "outputs": [],
   "source": [
    "#3.string literals\n",
    "\n",
    "it is basically uses ''' '''' or \"\"\" \"\"\"  (string with triple quote)\n",
    "commenting multiple lines"
   ]
  },
  {
   "cell_type": "code",
   "execution_count": null,
   "id": "3d6ffda8-5e22-4737-8c7b-67abbad5e157",
   "metadata": {},
   "outputs": [],
   "source": []
  },
  {
   "cell_type": "code",
   "execution_count": 6,
   "id": "6f17a4ae-bc71-4778-b4e4-b18daa1082ae",
   "metadata": {},
   "outputs": [],
   "source": [
    "# Q2. What are variables in Python? How do you declare and assign values to variables?\n"
   ]
  },
  {
   "cell_type": "code",
   "execution_count": null,
   "id": "559911d4-aa8b-408a-80eb-ea35e61e6358",
   "metadata": {},
   "outputs": [],
   "source": [
    "variable is nothing but a container uses for storing data or values."
   ]
  },
  {
   "cell_type": "code",
   "execution_count": 7,
   "id": "cc7ac03d-004f-4c01-a9a7-378772830f48",
   "metadata": {},
   "outputs": [
    {
     "name": "stdout",
     "output_type": "stream",
     "text": [
      "11\n",
      "hello world!\n"
     ]
    }
   ],
   "source": [
    "# declaration:\n",
    "\n",
    "a=11\n",
    "b=\"hello world!\"\n",
    "print(a)\n",
    "print(b)"
   ]
  },
  {
   "cell_type": "code",
   "execution_count": null,
   "id": "650dae98-ab22-4387-ac4d-88882d3000a3",
   "metadata": {},
   "outputs": [],
   "source": []
  },
  {
   "cell_type": "code",
   "execution_count": 8,
   "id": "450361a1-6118-4b37-8f8c-a80e694ad1b7",
   "metadata": {},
   "outputs": [],
   "source": [
    "# Q3. How do you convert one data type to another in Python?"
   ]
  },
  {
   "cell_type": "code",
   "execution_count": null,
   "id": "043cbae3-6f3f-4fdb-bb45-7e29a3dcf360",
   "metadata": {},
   "outputs": [],
   "source": [
    "python providing a type conversion functionality,which is used to convert one datatype to another in python.\n",
    "2 types:\n",
    "    1.implicit type conversion  (automatic)\n",
    "    2.explicit type conversion  (manually)\n",
    "    "
   ]
  },
  {
   "cell_type": "code",
   "execution_count": null,
   "id": "c5dcc7fc-a523-4ec3-986f-950f67596473",
   "metadata": {},
   "outputs": [],
   "source": [
    "another methods are also use .\n",
    "ex 1.conerting int to float we are using float()\n",
    "   2.converting str to list here using   list()\n",
    "\n"
   ]
  },
  {
   "cell_type": "code",
   "execution_count": 10,
   "id": "eb9acb32-cf4c-4d45-96d6-002021cdc03f",
   "metadata": {},
   "outputs": [
    {
     "name": "stdout",
     "output_type": "stream",
     "text": [
      "pwskills\n",
      "['p', 'w', 's', 'k', 'i', 'l', 'l', 's']\n"
     ]
    }
   ],
   "source": [
    "# ex\n",
    "\n",
    "a=\"pwskills\"\n",
    "print(a)\n",
    "c=list(a)\n",
    "print(c)"
   ]
  },
  {
   "cell_type": "code",
   "execution_count": null,
   "id": "862a15e3-1534-4e1b-be4d-a5879dd2cea4",
   "metadata": {},
   "outputs": [],
   "source": []
  },
  {
   "cell_type": "code",
   "execution_count": 11,
   "id": "4193d5a9-7f25-4ebf-a58b-d9f1535b47d5",
   "metadata": {},
   "outputs": [],
   "source": [
    "# Q4. How do you write and execute a Python script from the command line?"
   ]
  },
  {
   "cell_type": "code",
   "execution_count": null,
   "id": "dfb6e7f9-7e0f-4ef6-9b66-23a5be937ca0",
   "metadata": {},
   "outputs": [],
   "source": [
    "python scripts are the python code files saved with .py extension.\n",
    "we can run this files on any device if it has python install on it.\n",
    "\n",
    "\n",
    "1.verify command prompt can run python\n",
    "2.create a python script\n",
    "3.use .py extension     .save as name.py"
   ]
  },
  {
   "cell_type": "code",
   "execution_count": null,
   "id": "f63b4146-2038-4ad3-96b0-a96ebe26cd26",
   "metadata": {},
   "outputs": [],
   "source": []
  },
  {
   "cell_type": "code",
   "execution_count": 12,
   "id": "14eda000-8325-4030-8afc-8232dd148d3f",
   "metadata": {},
   "outputs": [],
   "source": [
    "# Q5. Given a list my_list = [1, 2, 3, 4, 5], write the code to slice the list and obtain the sub-list [2,3].\n"
   ]
  },
  {
   "cell_type": "code",
   "execution_count": 13,
   "id": "602a3e48-8d2b-4517-be6b-04ab9d6e5451",
   "metadata": {},
   "outputs": [],
   "source": [
    "my_list=[1,2,3,4,5]\n"
   ]
  },
  {
   "cell_type": "code",
   "execution_count": 15,
   "id": "5f7a29db-3212-4145-a5e4-82b7d8ee1883",
   "metadata": {},
   "outputs": [
    {
     "data": {
      "text/plain": [
       "[1, 2, 3, 4, 5]"
      ]
     },
     "execution_count": 15,
     "metadata": {},
     "output_type": "execute_result"
    }
   ],
   "source": [
    "my_list"
   ]
  },
  {
   "cell_type": "code",
   "execution_count": 17,
   "id": "e504172f-89b9-4b66-8313-fcfefc15bd10",
   "metadata": {},
   "outputs": [
    {
     "data": {
      "text/plain": [
       "[2, 3]"
      ]
     },
     "execution_count": 17,
     "metadata": {},
     "output_type": "execute_result"
    }
   ],
   "source": [
    "my_list[1:3]"
   ]
  },
  {
   "cell_type": "code",
   "execution_count": null,
   "id": "ddd4f34f-5848-4a56-95aa-373db9b2ac4e",
   "metadata": {},
   "outputs": [],
   "source": []
  },
  {
   "cell_type": "code",
   "execution_count": null,
   "id": "ac9f6a98-3887-4441-ba89-e47f8624284f",
   "metadata": {},
   "outputs": [],
   "source": []
  },
  {
   "cell_type": "code",
   "execution_count": 18,
   "id": "eda1d51e-9893-4ac1-afdd-47837b9feece",
   "metadata": {},
   "outputs": [],
   "source": [
    "# Q6. What is a complex number in mathematics, and how is it represented in python?"
   ]
  },
  {
   "cell_type": "code",
   "execution_count": 20,
   "id": "11eef67b-9fab-45a0-8101-6464dcb0050e",
   "metadata": {},
   "outputs": [],
   "source": [
    "complex number in mathematics is the sum of a real number plus imaginary number\n",
    "denoted by a+ib\n",
    "here,a and b are real numbers and i is the imaginary value."
   ]
  },
  {
   "cell_type": "code",
   "execution_count": 21,
   "id": "15761a94-6557-4c00-8e0f-0aba03ddd4bf",
   "metadata": {},
   "outputs": [],
   "source": [
    "# complex number represented in python\n",
    "\n",
    "x=6+7j\n",
    "\n",
    "#here 6 and 7 is the real values and j is denotes the imaginary number\n"
   ]
  },
  {
   "cell_type": "code",
   "execution_count": 22,
   "id": "99b68e9c-ad4c-4c2e-a37d-89e0522a3ee7",
   "metadata": {},
   "outputs": [
    {
     "data": {
      "text/plain": [
       "(6+7j)"
      ]
     },
     "execution_count": 22,
     "metadata": {},
     "output_type": "execute_result"
    }
   ],
   "source": [
    "x"
   ]
  },
  {
   "cell_type": "code",
   "execution_count": 23,
   "id": "f842924e-515e-4abf-88c5-b96b65fc59dc",
   "metadata": {},
   "outputs": [
    {
     "data": {
      "text/plain": [
       "complex"
      ]
     },
     "execution_count": 23,
     "metadata": {},
     "output_type": "execute_result"
    }
   ],
   "source": [
    "type(x)"
   ]
  },
  {
   "cell_type": "code",
   "execution_count": null,
   "id": "8c8dcb02-caaf-4604-8d6d-a28776bf7ff0",
   "metadata": {},
   "outputs": [],
   "source": []
  },
  {
   "cell_type": "code",
   "execution_count": null,
   "id": "14e82fe8-e004-4fca-8385-e430b3899f74",
   "metadata": {},
   "outputs": [],
   "source": []
  },
  {
   "cell_type": "code",
   "execution_count": 24,
   "id": "4c0a1158-469a-4096-a116-fc1c7fa377f1",
   "metadata": {},
   "outputs": [],
   "source": [
    "# Q7. What is the correct way to declare a variable named age and assign the value 25 to it?"
   ]
  },
  {
   "cell_type": "code",
   "execution_count": 25,
   "id": "3bc727fc-18aa-4d0d-84ca-c990268ed954",
   "metadata": {},
   "outputs": [],
   "source": [
    "age=25"
   ]
  },
  {
   "cell_type": "code",
   "execution_count": 26,
   "id": "8372a5fd-9369-4095-888a-96fa47b96197",
   "metadata": {},
   "outputs": [
    {
     "data": {
      "text/plain": [
       "25"
      ]
     },
     "execution_count": 26,
     "metadata": {},
     "output_type": "execute_result"
    }
   ],
   "source": [
    "age"
   ]
  },
  {
   "cell_type": "code",
   "execution_count": null,
   "id": "0c0ca0fb-10d1-451b-9f27-aaa0c54e8fcc",
   "metadata": {},
   "outputs": [],
   "source": []
  },
  {
   "cell_type": "code",
   "execution_count": 27,
   "id": "becafcc7-2f34-418e-b46e-b1684cbf9c5b",
   "metadata": {},
   "outputs": [],
   "source": [
    "# Q8. Declare a variable named price and assign the value 9.99 to it. What data type does this variable belong to?"
   ]
  },
  {
   "cell_type": "code",
   "execution_count": 28,
   "id": "3127d2bc-56ea-4521-b55d-a3eae8092b2c",
   "metadata": {},
   "outputs": [
    {
     "name": "stdout",
     "output_type": "stream",
     "text": [
      "9.99\n"
     ]
    },
    {
     "data": {
      "text/plain": [
       "float"
      ]
     },
     "execution_count": 28,
     "metadata": {},
     "output_type": "execute_result"
    }
   ],
   "source": [
    "price=9.99\n",
    "print(price)\n",
    "type(price)"
   ]
  },
  {
   "cell_type": "code",
   "execution_count": null,
   "id": "10b759ac-2788-4f25-ab8d-3b2241991b98",
   "metadata": {},
   "outputs": [],
   "source": []
  },
  {
   "cell_type": "code",
   "execution_count": null,
   "id": "717c2782-c9f1-413b-98bb-04a9664fb690",
   "metadata": {},
   "outputs": [],
   "source": []
  },
  {
   "cell_type": "code",
   "execution_count": 29,
   "id": "394276d1-dd8d-4307-adb8-cca30bedc3d0",
   "metadata": {},
   "outputs": [],
   "source": [
    "# Q9. Create a variable named name and assign your full name to it as a string. How would you print the value of this variable?"
   ]
  },
  {
   "cell_type": "code",
   "execution_count": 30,
   "id": "e2aaa947-8b44-40de-87d4-35923d4d6242",
   "metadata": {},
   "outputs": [],
   "source": [
    "name=\"divya dake\""
   ]
  },
  {
   "cell_type": "code",
   "execution_count": 31,
   "id": "bf0a3a73-6e47-4802-99d1-dd8aab5aaf33",
   "metadata": {},
   "outputs": [
    {
     "name": "stdout",
     "output_type": "stream",
     "text": [
      "divya dake\n"
     ]
    }
   ],
   "source": [
    "print(name)"
   ]
  },
  {
   "cell_type": "code",
   "execution_count": null,
   "id": "1b8a24a6-edd8-4c62-8ead-0b1a7e836c57",
   "metadata": {},
   "outputs": [],
   "source": []
  },
  {
   "cell_type": "code",
   "execution_count": null,
   "id": "1cfb9baa-4ae1-4604-93c6-a90db90557da",
   "metadata": {},
   "outputs": [],
   "source": []
  },
  {
   "cell_type": "code",
   "execution_count": 32,
   "id": "f26c949e-38ae-474d-afad-4ae76a05ac56",
   "metadata": {},
   "outputs": [],
   "source": [
    "# Q10. Given the string \"Hello, World!\", extract the substring \"World\"."
   ]
  },
  {
   "cell_type": "code",
   "execution_count": 33,
   "id": "38bbfe0e-a710-4f2c-b751-8b8f1ae69775",
   "metadata": {},
   "outputs": [],
   "source": [
    "str=\"Hello, World!\""
   ]
  },
  {
   "cell_type": "code",
   "execution_count": 38,
   "id": "0746acd3-91d5-4c4f-b1b9-b93d8659303a",
   "metadata": {},
   "outputs": [
    {
     "data": {
      "text/plain": [
       "'World'"
      ]
     },
     "execution_count": 38,
     "metadata": {},
     "output_type": "execute_result"
    }
   ],
   "source": [
    "str[7:12]\n",
    "#it is done by using slicing method in python"
   ]
  },
  {
   "cell_type": "code",
   "execution_count": null,
   "id": "b35f69e6-4a71-40b4-8717-2dd4e95b3c4a",
   "metadata": {},
   "outputs": [],
   "source": []
  },
  {
   "cell_type": "code",
   "execution_count": 39,
   "id": "1b69c605-0d0d-4a83-9115-d16d59859630",
   "metadata": {},
   "outputs": [],
   "source": [
    "# Q11. Create a variable named \"is_student\" and assign it a boolean value indicating whether you are\n",
    "# currently a student or not?"
   ]
  },
  {
   "cell_type": "code",
   "execution_count": 40,
   "id": "b9bbcf2f-5ab3-407b-adb8-a533a4d8b349",
   "metadata": {},
   "outputs": [
    {
     "name": "stdout",
     "output_type": "stream",
     "text": [
      "True\n"
     ]
    }
   ],
   "source": [
    "is_student=True\n",
    "print(is_student)"
   ]
  },
  {
   "cell_type": "code",
   "execution_count": null,
   "id": "85f104bc-12b0-4a16-9fc4-922a49b91a76",
   "metadata": {},
   "outputs": [],
   "source": []
  }
 ],
 "metadata": {
  "kernelspec": {
   "display_name": "Python 3 (ipykernel)",
   "language": "python",
   "name": "python3"
  },
  "language_info": {
   "codemirror_mode": {
    "name": "ipython",
    "version": 3
   },
   "file_extension": ".py",
   "mimetype": "text/x-python",
   "name": "python",
   "nbconvert_exporter": "python",
   "pygments_lexer": "ipython3",
   "version": "3.10.8"
  }
 },
 "nbformat": 4,
 "nbformat_minor": 5
}
